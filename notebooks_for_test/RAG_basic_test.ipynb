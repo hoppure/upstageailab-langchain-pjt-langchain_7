{
 "cells": [
  {
   "cell_type": "code",
   "execution_count": 2,
   "metadata": {
    "colab": {
     "base_uri": "https://localhost:8080/"
    },
    "executionInfo": {
     "elapsed": 17153,
     "status": "ok",
     "timestamp": 1755784066356,
     "user": {
      "displayName": "Gee",
      "userId": "08723620636746217623"
     },
     "user_tz": -540
    },
    "id": "Me3yeuMriFuW",
    "outputId": "ec37c007-1cbf-4e4a-ee95-1a274faad1e2"
   },
   "outputs": [
    {
     "name": "stdout",
     "output_type": "stream",
     "text": [
      "Collecting langchain_community\n",
      "  Downloading langchain_community-0.3.27-py3-none-any.whl.metadata (2.9 kB)\n",
      "Requirement already satisfied: langchain-core<1.0.0,>=0.3.66 in /usr/local/lib/python3.12/dist-packages (from langchain_community) (0.3.74)\n",
      "Requirement already satisfied: langchain<1.0.0,>=0.3.26 in /usr/local/lib/python3.12/dist-packages (from langchain_community) (0.3.27)\n",
      "Requirement already satisfied: SQLAlchemy<3,>=1.4 in /usr/local/lib/python3.12/dist-packages (from langchain_community) (2.0.43)\n",
      "Requirement already satisfied: requests<3,>=2 in /usr/local/lib/python3.12/dist-packages (from langchain_community) (2.32.4)\n",
      "Requirement already satisfied: PyYAML>=5.3 in /usr/local/lib/python3.12/dist-packages (from langchain_community) (6.0.2)\n",
      "Requirement already satisfied: aiohttp<4.0.0,>=3.8.3 in /usr/local/lib/python3.12/dist-packages (from langchain_community) (3.12.15)\n",
      "Requirement already satisfied: tenacity!=8.4.0,<10,>=8.1.0 in /usr/local/lib/python3.12/dist-packages (from langchain_community) (8.5.0)\n",
      "Collecting dataclasses-json<0.7,>=0.5.7 (from langchain_community)\n",
      "  Downloading dataclasses_json-0.6.7-py3-none-any.whl.metadata (25 kB)\n",
      "Requirement already satisfied: pydantic-settings<3.0.0,>=2.4.0 in /usr/local/lib/python3.12/dist-packages (from langchain_community) (2.10.1)\n",
      "Requirement already satisfied: langsmith>=0.1.125 in /usr/local/lib/python3.12/dist-packages (from langchain_community) (0.4.14)\n",
      "Requirement already satisfied: httpx-sse<1.0.0,>=0.4.0 in /usr/local/lib/python3.12/dist-packages (from langchain_community) (0.4.1)\n",
      "Requirement already satisfied: numpy>=1.26.2 in /usr/local/lib/python3.12/dist-packages (from langchain_community) (2.0.2)\n",
      "Requirement already satisfied: aiohappyeyeballs>=2.5.0 in /usr/local/lib/python3.12/dist-packages (from aiohttp<4.0.0,>=3.8.3->langchain_community) (2.6.1)\n",
      "Requirement already satisfied: aiosignal>=1.4.0 in /usr/local/lib/python3.12/dist-packages (from aiohttp<4.0.0,>=3.8.3->langchain_community) (1.4.0)\n",
      "Requirement already satisfied: attrs>=17.3.0 in /usr/local/lib/python3.12/dist-packages (from aiohttp<4.0.0,>=3.8.3->langchain_community) (25.3.0)\n",
      "Requirement already satisfied: frozenlist>=1.1.1 in /usr/local/lib/python3.12/dist-packages (from aiohttp<4.0.0,>=3.8.3->langchain_community) (1.7.0)\n",
      "Requirement already satisfied: multidict<7.0,>=4.5 in /usr/local/lib/python3.12/dist-packages (from aiohttp<4.0.0,>=3.8.3->langchain_community) (6.6.4)\n",
      "Requirement already satisfied: propcache>=0.2.0 in /usr/local/lib/python3.12/dist-packages (from aiohttp<4.0.0,>=3.8.3->langchain_community) (0.3.2)\n",
      "Requirement already satisfied: yarl<2.0,>=1.17.0 in /usr/local/lib/python3.12/dist-packages (from aiohttp<4.0.0,>=3.8.3->langchain_community) (1.20.1)\n",
      "Collecting marshmallow<4.0.0,>=3.18.0 (from dataclasses-json<0.7,>=0.5.7->langchain_community)\n",
      "  Downloading marshmallow-3.26.1-py3-none-any.whl.metadata (7.3 kB)\n",
      "Collecting typing-inspect<1,>=0.4.0 (from dataclasses-json<0.7,>=0.5.7->langchain_community)\n",
      "  Downloading typing_inspect-0.9.0-py3-none-any.whl.metadata (1.5 kB)\n",
      "Requirement already satisfied: langchain-text-splitters<1.0.0,>=0.3.9 in /usr/local/lib/python3.12/dist-packages (from langchain<1.0.0,>=0.3.26->langchain_community) (0.3.9)\n",
      "Requirement already satisfied: pydantic<3.0.0,>=2.7.4 in /usr/local/lib/python3.12/dist-packages (from langchain<1.0.0,>=0.3.26->langchain_community) (2.11.7)\n",
      "Requirement already satisfied: jsonpatch<2.0,>=1.33 in /usr/local/lib/python3.12/dist-packages (from langchain-core<1.0.0,>=0.3.66->langchain_community) (1.33)\n",
      "Requirement already satisfied: typing-extensions>=4.7 in /usr/local/lib/python3.12/dist-packages (from langchain-core<1.0.0,>=0.3.66->langchain_community) (4.14.1)\n",
      "Requirement already satisfied: packaging>=23.2 in /usr/local/lib/python3.12/dist-packages (from langchain-core<1.0.0,>=0.3.66->langchain_community) (25.0)\n",
      "Requirement already satisfied: httpx<1,>=0.23.0 in /usr/local/lib/python3.12/dist-packages (from langsmith>=0.1.125->langchain_community) (0.28.1)\n",
      "Requirement already satisfied: orjson>=3.9.14 in /usr/local/lib/python3.12/dist-packages (from langsmith>=0.1.125->langchain_community) (3.11.2)\n",
      "Requirement already satisfied: requests-toolbelt>=1.0.0 in /usr/local/lib/python3.12/dist-packages (from langsmith>=0.1.125->langchain_community) (1.0.0)\n",
      "Requirement already satisfied: zstandard>=0.23.0 in /usr/local/lib/python3.12/dist-packages (from langsmith>=0.1.125->langchain_community) (0.24.0)\n",
      "Requirement already satisfied: python-dotenv>=0.21.0 in /usr/local/lib/python3.12/dist-packages (from pydantic-settings<3.0.0,>=2.4.0->langchain_community) (1.1.1)\n",
      "Requirement already satisfied: typing-inspection>=0.4.0 in /usr/local/lib/python3.12/dist-packages (from pydantic-settings<3.0.0,>=2.4.0->langchain_community) (0.4.1)\n",
      "Requirement already satisfied: charset_normalizer<4,>=2 in /usr/local/lib/python3.12/dist-packages (from requests<3,>=2->langchain_community) (3.4.3)\n",
      "Requirement already satisfied: idna<4,>=2.5 in /usr/local/lib/python3.12/dist-packages (from requests<3,>=2->langchain_community) (3.10)\n",
      "Requirement already satisfied: urllib3<3,>=1.21.1 in /usr/local/lib/python3.12/dist-packages (from requests<3,>=2->langchain_community) (2.5.0)\n",
      "Requirement already satisfied: certifi>=2017.4.17 in /usr/local/lib/python3.12/dist-packages (from requests<3,>=2->langchain_community) (2025.8.3)\n",
      "Requirement already satisfied: greenlet>=1 in /usr/local/lib/python3.12/dist-packages (from SQLAlchemy<3,>=1.4->langchain_community) (3.2.4)\n",
      "Requirement already satisfied: anyio in /usr/local/lib/python3.12/dist-packages (from httpx<1,>=0.23.0->langsmith>=0.1.125->langchain_community) (4.10.0)\n",
      "Requirement already satisfied: httpcore==1.* in /usr/local/lib/python3.12/dist-packages (from httpx<1,>=0.23.0->langsmith>=0.1.125->langchain_community) (1.0.9)\n",
      "Requirement already satisfied: h11>=0.16 in /usr/local/lib/python3.12/dist-packages (from httpcore==1.*->httpx<1,>=0.23.0->langsmith>=0.1.125->langchain_community) (0.16.0)\n",
      "Requirement already satisfied: jsonpointer>=1.9 in /usr/local/lib/python3.12/dist-packages (from jsonpatch<2.0,>=1.33->langchain-core<1.0.0,>=0.3.66->langchain_community) (3.0.0)\n",
      "Requirement already satisfied: annotated-types>=0.6.0 in /usr/local/lib/python3.12/dist-packages (from pydantic<3.0.0,>=2.7.4->langchain<1.0.0,>=0.3.26->langchain_community) (0.7.0)\n",
      "Requirement already satisfied: pydantic-core==2.33.2 in /usr/local/lib/python3.12/dist-packages (from pydantic<3.0.0,>=2.7.4->langchain<1.0.0,>=0.3.26->langchain_community) (2.33.2)\n",
      "Collecting mypy-extensions>=0.3.0 (from typing-inspect<1,>=0.4.0->dataclasses-json<0.7,>=0.5.7->langchain_community)\n",
      "  Downloading mypy_extensions-1.1.0-py3-none-any.whl.metadata (1.1 kB)\n",
      "Requirement already satisfied: sniffio>=1.1 in /usr/local/lib/python3.12/dist-packages (from anyio->httpx<1,>=0.23.0->langsmith>=0.1.125->langchain_community) (1.3.1)\n",
      "Downloading langchain_community-0.3.27-py3-none-any.whl (2.5 MB)\n",
      "\u001b[2K   \u001b[90m━━━━━━━━━━━━━━━━━━━━━━━━━━━━━━━━━━━━━━━━\u001b[0m \u001b[32m2.5/2.5 MB\u001b[0m \u001b[31m71.2 MB/s\u001b[0m eta \u001b[36m0:00:00\u001b[0m\n",
      "\u001b[?25hDownloading dataclasses_json-0.6.7-py3-none-any.whl (28 kB)\n",
      "Downloading marshmallow-3.26.1-py3-none-any.whl (50 kB)\n",
      "\u001b[2K   \u001b[90m━━━━━━━━━━━━━━━━━━━━━━━━━━━━━━━━━━━━━━━━\u001b[0m \u001b[32m50.9/50.9 kB\u001b[0m \u001b[31m4.7 MB/s\u001b[0m eta \u001b[36m0:00:00\u001b[0m\n",
      "\u001b[?25hDownloading typing_inspect-0.9.0-py3-none-any.whl (8.8 kB)\n",
      "Downloading mypy_extensions-1.1.0-py3-none-any.whl (5.0 kB)\n",
      "Installing collected packages: mypy-extensions, marshmallow, typing-inspect, dataclasses-json, langchain_community\n",
      "Successfully installed dataclasses-json-0.6.7 langchain_community-0.3.27 marshmallow-3.26.1 mypy-extensions-1.1.0 typing-inspect-0.9.0\n",
      "Collecting langchain_openai\n",
      "  Downloading langchain_openai-0.3.30-py3-none-any.whl.metadata (2.4 kB)\n",
      "Requirement already satisfied: langchain-core<1.0.0,>=0.3.74 in /usr/local/lib/python3.12/dist-packages (from langchain_openai) (0.3.74)\n",
      "Requirement already satisfied: openai<2.0.0,>=1.99.9 in /usr/local/lib/python3.12/dist-packages (from langchain_openai) (1.100.0)\n",
      "Requirement already satisfied: tiktoken<1,>=0.7 in /usr/local/lib/python3.12/dist-packages (from langchain_openai) (0.11.0)\n",
      "Requirement already satisfied: langsmith>=0.3.45 in /usr/local/lib/python3.12/dist-packages (from langchain-core<1.0.0,>=0.3.74->langchain_openai) (0.4.14)\n",
      "Requirement already satisfied: tenacity!=8.4.0,<10.0.0,>=8.1.0 in /usr/local/lib/python3.12/dist-packages (from langchain-core<1.0.0,>=0.3.74->langchain_openai) (8.5.0)\n",
      "Requirement already satisfied: jsonpatch<2.0,>=1.33 in /usr/local/lib/python3.12/dist-packages (from langchain-core<1.0.0,>=0.3.74->langchain_openai) (1.33)\n",
      "Requirement already satisfied: PyYAML>=5.3 in /usr/local/lib/python3.12/dist-packages (from langchain-core<1.0.0,>=0.3.74->langchain_openai) (6.0.2)\n",
      "Requirement already satisfied: typing-extensions>=4.7 in /usr/local/lib/python3.12/dist-packages (from langchain-core<1.0.0,>=0.3.74->langchain_openai) (4.14.1)\n",
      "Requirement already satisfied: packaging>=23.2 in /usr/local/lib/python3.12/dist-packages (from langchain-core<1.0.0,>=0.3.74->langchain_openai) (25.0)\n",
      "Requirement already satisfied: pydantic>=2.7.4 in /usr/local/lib/python3.12/dist-packages (from langchain-core<1.0.0,>=0.3.74->langchain_openai) (2.11.7)\n",
      "Requirement already satisfied: anyio<5,>=3.5.0 in /usr/local/lib/python3.12/dist-packages (from openai<2.0.0,>=1.99.9->langchain_openai) (4.10.0)\n",
      "Requirement already satisfied: distro<2,>=1.7.0 in /usr/local/lib/python3.12/dist-packages (from openai<2.0.0,>=1.99.9->langchain_openai) (1.9.0)\n",
      "Requirement already satisfied: httpx<1,>=0.23.0 in /usr/local/lib/python3.12/dist-packages (from openai<2.0.0,>=1.99.9->langchain_openai) (0.28.1)\n",
      "Requirement already satisfied: jiter<1,>=0.4.0 in /usr/local/lib/python3.12/dist-packages (from openai<2.0.0,>=1.99.9->langchain_openai) (0.10.0)\n",
      "Requirement already satisfied: sniffio in /usr/local/lib/python3.12/dist-packages (from openai<2.0.0,>=1.99.9->langchain_openai) (1.3.1)\n",
      "Requirement already satisfied: tqdm>4 in /usr/local/lib/python3.12/dist-packages (from openai<2.0.0,>=1.99.9->langchain_openai) (4.67.1)\n",
      "Requirement already satisfied: regex>=2022.1.18 in /usr/local/lib/python3.12/dist-packages (from tiktoken<1,>=0.7->langchain_openai) (2024.11.6)\n",
      "Requirement already satisfied: requests>=2.26.0 in /usr/local/lib/python3.12/dist-packages (from tiktoken<1,>=0.7->langchain_openai) (2.32.4)\n",
      "Requirement already satisfied: idna>=2.8 in /usr/local/lib/python3.12/dist-packages (from anyio<5,>=3.5.0->openai<2.0.0,>=1.99.9->langchain_openai) (3.10)\n",
      "Requirement already satisfied: certifi in /usr/local/lib/python3.12/dist-packages (from httpx<1,>=0.23.0->openai<2.0.0,>=1.99.9->langchain_openai) (2025.8.3)\n",
      "Requirement already satisfied: httpcore==1.* in /usr/local/lib/python3.12/dist-packages (from httpx<1,>=0.23.0->openai<2.0.0,>=1.99.9->langchain_openai) (1.0.9)\n",
      "Requirement already satisfied: h11>=0.16 in /usr/local/lib/python3.12/dist-packages (from httpcore==1.*->httpx<1,>=0.23.0->openai<2.0.0,>=1.99.9->langchain_openai) (0.16.0)\n",
      "Requirement already satisfied: jsonpointer>=1.9 in /usr/local/lib/python3.12/dist-packages (from jsonpatch<2.0,>=1.33->langchain-core<1.0.0,>=0.3.74->langchain_openai) (3.0.0)\n",
      "Requirement already satisfied: orjson>=3.9.14 in /usr/local/lib/python3.12/dist-packages (from langsmith>=0.3.45->langchain-core<1.0.0,>=0.3.74->langchain_openai) (3.11.2)\n",
      "Requirement already satisfied: requests-toolbelt>=1.0.0 in /usr/local/lib/python3.12/dist-packages (from langsmith>=0.3.45->langchain-core<1.0.0,>=0.3.74->langchain_openai) (1.0.0)\n",
      "Requirement already satisfied: zstandard>=0.23.0 in /usr/local/lib/python3.12/dist-packages (from langsmith>=0.3.45->langchain-core<1.0.0,>=0.3.74->langchain_openai) (0.24.0)\n",
      "Requirement already satisfied: annotated-types>=0.6.0 in /usr/local/lib/python3.12/dist-packages (from pydantic>=2.7.4->langchain-core<1.0.0,>=0.3.74->langchain_openai) (0.7.0)\n",
      "Requirement already satisfied: pydantic-core==2.33.2 in /usr/local/lib/python3.12/dist-packages (from pydantic>=2.7.4->langchain-core<1.0.0,>=0.3.74->langchain_openai) (2.33.2)\n",
      "Requirement already satisfied: typing-inspection>=0.4.0 in /usr/local/lib/python3.12/dist-packages (from pydantic>=2.7.4->langchain-core<1.0.0,>=0.3.74->langchain_openai) (0.4.1)\n",
      "Requirement already satisfied: charset_normalizer<4,>=2 in /usr/local/lib/python3.12/dist-packages (from requests>=2.26.0->tiktoken<1,>=0.7->langchain_openai) (3.4.3)\n",
      "Requirement already satisfied: urllib3<3,>=1.21.1 in /usr/local/lib/python3.12/dist-packages (from requests>=2.26.0->tiktoken<1,>=0.7->langchain_openai) (2.5.0)\n",
      "Downloading langchain_openai-0.3.30-py3-none-any.whl (74 kB)\n",
      "\u001b[2K   \u001b[90m━━━━━━━━━━━━━━━━━━━━━━━━━━━━━━━━━━━━━━━━\u001b[0m \u001b[32m74.4/74.4 kB\u001b[0m \u001b[31m7.8 MB/s\u001b[0m eta \u001b[36m0:00:00\u001b[0m\n",
      "\u001b[?25hInstalling collected packages: langchain_openai\n",
      "Successfully installed langchain_openai-0.3.30\n"
     ]
    }
   ],
   "source": [
    "!pip install langchain_community\n",
    "!pip install langchain_openai"
   ]
  },
  {
   "cell_type": "code",
   "execution_count": 12,
   "metadata": {
    "colab": {
     "base_uri": "https://localhost:8080/"
    },
    "executionInfo": {
     "elapsed": 15,
     "status": "ok",
     "timestamp": 1755784214732,
     "user": {
      "displayName": "Gee",
      "userId": "08723620636746217623"
     },
     "user_tz": -540
    },
    "id": "7fhFk9Xk3hcl",
    "outputId": "d47c1523-fb32-4869-95ba-880a7c75d1c2"
   },
   "outputs": [
    {
     "data": {
      "text/plain": [
       "True"
      ]
     },
     "execution_count": 12,
     "metadata": {},
     "output_type": "execute_result"
    }
   ],
   "source": [
    "# API 키를 환경변수로 관리하기 위한 설정 파일\n",
    "from dotenv import load_dotenv\n",
    "\n",
    "# API 키 정보 로드\n",
    "load_dotenv()"
   ]
  },
  {
   "cell_type": "code",
   "execution_count": 4,
   "metadata": {
    "executionInfo": {
     "elapsed": 1551,
     "status": "ok",
     "timestamp": 1755784086033,
     "user": {
      "displayName": "Gee",
      "userId": "08723620636746217623"
     },
     "user_tz": -540
    },
    "id": "QkA8bp13evHf"
   },
   "outputs": [],
   "source": [
    "from langchain_text_splitters import RecursiveCharacterTextSplitter\n",
    "from langchain_community.document_loaders import PyMuPDFLoader\n",
    "from langchain_community.vectorstores import FAISS\n",
    "from langchain_core.output_parsers import StrOutputParser\n",
    "from langchain_core.runnables import RunnablePassthrough\n",
    "from langchain_core.prompts import PromptTemplate\n",
    "from langchain_openai import ChatOpenAI, OpenAIEmbeddings"
   ]
  },
  {
   "cell_type": "code",
   "execution_count": 5,
   "metadata": {
    "colab": {
     "base_uri": "https://localhost:8080/"
    },
    "executionInfo": {
     "elapsed": 11692,
     "status": "ok",
     "timestamp": 1755784108423,
     "user": {
      "displayName": "Gee",
      "userId": "08723620636746217623"
     },
     "user_tz": -540
    },
    "id": "451e727e",
    "outputId": "d72c0694-b907-4f39-f034-0ae3d1dde5c4"
   },
   "outputs": [
    {
     "name": "stdout",
     "output_type": "stream",
     "text": [
      "Collecting pymupdf\n",
      "  Downloading pymupdf-1.26.3-cp39-abi3-manylinux_2_28_x86_64.whl.metadata (3.4 kB)\n",
      "Downloading pymupdf-1.26.3-cp39-abi3-manylinux_2_28_x86_64.whl (24.1 MB)\n",
      "\u001b[2K   \u001b[90m━━━━━━━━━━━━━━━━━━━━━━━━━━━━━━━━━━━━━━━━\u001b[0m \u001b[32m24.1/24.1 MB\u001b[0m \u001b[31m104.9 MB/s\u001b[0m eta \u001b[36m0:00:00\u001b[0m\n",
      "\u001b[?25hInstalling collected packages: pymupdf\n",
      "Successfully installed pymupdf-1.26.3\n",
      "\u001b[31mERROR: Could not find a version that satisfies the requirement faiss-gpu (from versions: none)\u001b[0m\u001b[31m\n",
      "\u001b[0m\u001b[31mERROR: No matching distribution found for faiss-gpu\u001b[0m\u001b[31m\n",
      "\u001b[0m"
     ]
    }
   ],
   "source": [
    "!pip install pymupdf\n",
    "!pip install faiss-gpu"
   ]
  },
  {
   "cell_type": "code",
   "execution_count": null,
   "metadata": {
    "colab": {
     "base_uri": "https://localhost:8080/"
    },
    "executionInfo": {
     "elapsed": 7728,
     "status": "ok",
     "timestamp": 1755784276714,
     "user": {
      "displayName": "Gee",
      "userId": "08723620636746217623"
     },
     "user_tz": -540
    },
    "id": "c37a5a72",
    "outputId": "4f5ea65e-6cdf-461a-bd8d-ed4a71b2b062"
   },
   "outputs": [
    {
     "name": "stdout",
     "output_type": "stream",
     "text": [
      "Collecting faiss-cpu\n",
      "  Downloading faiss_cpu-1.12.0-cp312-cp312-manylinux_2_27_x86_64.manylinux_2_28_x86_64.whl.metadata (5.1 kB)\n",
      "Requirement already satisfied: numpy<3.0,>=1.25.0 in /usr/local/lib/python3.12/dist-packages (from faiss-cpu) (2.0.2)\n",
      "Requirement already satisfied: packaging in /usr/local/lib/python3.12/dist-packages (from faiss-cpu) (25.0)\n",
      "Downloading faiss_cpu-1.12.0-cp312-cp312-manylinux_2_27_x86_64.manylinux_2_28_x86_64.whl (31.4 MB)\n",
      "\u001b[2K   \u001b[90m━━━━━━━━━━━━━━━━━━━━━━━━━━━━━━━━━━━━━━━━\u001b[0m \u001b[32m31.4/31.4 MB\u001b[0m \u001b[31m75.8 MB/s\u001b[0m eta \u001b[36m0:00:00\u001b[0m\n",
      "\u001b[?25hInstalling collected packages: faiss-cpu\n",
      "Successfully installed faiss-cpu-1.12.0\n"
     ]
    }
   ],
   "source": [
    "!pip install faiss-cpu"
   ]
  },
  {
   "cell_type": "code",
   "execution_count": 8,
   "metadata": {
    "colab": {
     "base_uri": "https://localhost:8080/"
    },
    "executionInfo": {
     "elapsed": 222,
     "status": "ok",
     "timestamp": 1755784200870,
     "user": {
      "displayName": "Gee",
      "userId": "08723620636746217623"
     },
     "user_tz": -540
    },
    "id": "vCDO57wZgCeS",
    "outputId": "bde1722a-5882-4b8c-d5a3-d11cda92ea2f"
   },
   "outputs": [
    {
     "name": "stdout",
     "output_type": "stream",
     "text": [
      "문서의 페이지수: 7\n"
     ]
    }
   ],
   "source": [
    "# 단계 1: 문서 로드(Load Documents)\n",
    "loader = PyMuPDFLoader(\"20250821_company_463434000.pdf\")\n",
    "docs = loader.load()\n",
    "print(f\"문서의 페이지수: {len(docs)}\")"
   ]
  },
  {
   "cell_type": "code",
   "execution_count": 9,
   "metadata": {
    "colab": {
     "base_uri": "https://localhost:8080/"
    },
    "executionInfo": {
     "elapsed": 6,
     "status": "ok",
     "timestamp": 1755784204245,
     "user": {
      "displayName": "Gee",
      "userId": "08723620636746217623"
     },
     "user_tz": -540
    },
    "id": "IA8nPyXThiOp",
    "outputId": "a44e9a90-c498-4896-a640-f432dbd4f1e3"
   },
   "outputs": [
    {
     "name": "stdout",
     "output_type": "stream",
     "text": [
      "분할된 청크의수: 17\n"
     ]
    }
   ],
   "source": [
    "# 단계 2: 문서 분할(Split Documents)\n",
    "text_splitter = RecursiveCharacterTextSplitter(chunk_size=1000, chunk_overlap=50)\n",
    "split_documents = text_splitter.split_documents(docs)\n",
    "print(f\"분할된 청크의수: {len(split_documents)}\")"
   ]
  },
  {
   "cell_type": "code",
   "execution_count": 13,
   "metadata": {
    "executionInfo": {
     "elapsed": 762,
     "status": "ok",
     "timestamp": 1755784218038,
     "user": {
      "displayName": "Gee",
      "userId": "08723620636746217623"
     },
     "user_tz": -540
    },
    "id": "7C3udfQEhoDR"
   },
   "outputs": [],
   "source": [
    "# 단계 3: 임베딩(Embedding) 생성\n",
    "embeddings = OpenAIEmbeddings()"
   ]
  },
  {
   "cell_type": "code",
   "execution_count": 16,
   "metadata": {
    "executionInfo": {
     "elapsed": 3298,
     "status": "ok",
     "timestamp": 1755784292612,
     "user": {
      "displayName": "Gee",
      "userId": "08723620636746217623"
     },
     "user_tz": -540
    },
    "id": "XG3HXWBbhn8Q"
   },
   "outputs": [],
   "source": [
    "# 단계 4: DB 생성(Create DB) 및 저장\n",
    "# 벡터스토어를 생성합니다.\n",
    "vectorstore = FAISS.from_documents(documents=split_documents, embedding=embeddings)"
   ]
  },
  {
   "cell_type": "code",
   "execution_count": 17,
   "metadata": {
    "executionInfo": {
     "elapsed": 43,
     "status": "ok",
     "timestamp": 1755784326554,
     "user": {
      "displayName": "Gee",
      "userId": "08723620636746217623"
     },
     "user_tz": -540
    },
    "id": "3olxdK2_hn5N"
   },
   "outputs": [],
   "source": [
    "# 단계 5: 검색기(Retriever) 생성\n",
    "# 문서에 포함되어 있는 정보를 검색하고 생성합니다.\n",
    "retriever = vectorstore.as_retriever()"
   ]
  },
  {
   "cell_type": "code",
   "execution_count": 19,
   "metadata": {
    "colab": {
     "base_uri": "https://localhost:8080/"
    },
    "executionInfo": {
     "elapsed": 1014,
     "status": "ok",
     "timestamp": 1755784400525,
     "user": {
      "displayName": "Gee",
      "userId": "08723620636746217623"
     },
     "user_tz": -540
    },
    "id": "gPZIfsAKhn2J",
    "outputId": "3f7ac943-79d1-448b-9f83-cd05493302fa"
   },
   "outputs": [
    {
     "data": {
      "text/plain": [
       "[Document(id='be39b78a-68fa-4806-aa3d-f46b375803eb', metadata={'producer': 'Microsoft® Word Microsoft 365용', 'creator': 'Microsoft® Word Microsoft 365용', 'creationdate': '2025-08-20T21:43:04+09:00', 'source': '20250821_company_463434000.pdf', 'file_path': '20250821_company_463434000.pdf', 'total_pages': 7, 'format': 'PDF 1.7', 'title': '', 'author': 'vdiadmin', 'subject': '', 'keywords': '', 'moddate': '2025-08-20T21:43:04+09:00', 'trapped': '', 'modDate': \"D:20250820214304+09'00'\", 'creationDate': \"D:20250820214304+09'00'\", 'page': 0}, page_content='KOSDAQ \\n777.61 \\n시가총액 \\n3,518십억원 \\n시가총액비중 \\n0.93% \\n자본금(보통주) \\n7십억원 \\n52주 최고/최저 \\n70,700원 / 40,050원 \\n120일 평균거래대금 \\n276억원 \\n외국인지분율 \\n70.22% \\n주요주주 \\n BCPE Centur Investments, LP 외 2 인 \\n66.95%  \\n  \\n \\n \\n*KOL(Key Opinion Leader): 해당 분야에서 전문성과 영향\\n력을 갖추어 다른 의사, 소비자, 업계 종사자들의 의견과 \\n의사결정에 큰 영향을 미치는 핵심 전문가 \\n주가수익률(%) \\n1M \\n3M \\n6M \\n12M \\n절대수익률 \\n-8.0  \\n-7.6  \\n-3.4  \\n7.4  \\n상대수익률 \\n-3.0  \\n-14.9  \\n-4.6  \\n8.8  \\n \\n-10\\n0\\n10\\n20\\n30\\n40\\n50\\n60\\n38\\n47\\n56\\n64\\n73\\n24.08\\n24.11\\n25.02\\n25.05\\n25.08\\n(%)\\n(천원)\\n클래시스(좌)\\nRelative to KOSDAQ(우)'),\n",
       " Document(id='4a436ce8-e453-414f-ac2a-215b0c9d794b', metadata={'producer': 'Microsoft® Word Microsoft 365용', 'creator': 'Microsoft® Word Microsoft 365용', 'creationdate': '2025-08-20T21:43:04+09:00', 'source': '20250821_company_463434000.pdf', 'file_path': '20250821_company_463434000.pdf', 'total_pages': 7, 'format': 'PDF 1.7', 'title': '', 'author': 'vdiadmin', 'subject': '', 'keywords': '', 'moddate': '2025-08-20T21:43:04+09:00', 'trapped': '', 'modDate': \"D:20250820214304+09'00'\", 'creationDate': \"D:20250820214304+09'00'\", 'page': 5}, page_content='0 \\n4 \\n4 \\n4 \\n4 \\n  기타 \\n-1 \\n-13 \\n-2 \\n-2 \\n-2  \\n   유동성채무 \\n2 \\n73 \\n0 \\n0 \\n0 \\n법인세비용차감전순손익 \\n94 \\n128 \\n181 \\n233 \\n283  \\n   기타유동부채 \\n17 \\n28 \\n23 \\n23 \\n23 \\n   법인세비용 \\n-20 \\n-30 \\n-36 \\n-49 \\n-59  \\n비유동부채 \\n63 \\n27 \\n32 \\n37 \\n42 \\n계속사업순손익 \\n74 \\n98 \\n145 \\n184 \\n223  \\n   차입금 \\n62 \\n12 \\n17 \\n22 \\n27 \\n중단사업순손익 \\n0 \\n0 \\n0 \\n0 \\n0  \\n   전환증권 \\n0 \\n0 \\n0 \\n0 \\n0 \\n당기순이익 \\n74 \\n98 \\n145 \\n184 \\n223  \\n 기타비유동부채 \\n1 \\n15 \\n15 \\n15 \\n15 \\n당기순이익률 \\n41.2 \\n40.2 \\n40.1 \\n40.0 \\n38.8  \\n부채총계 \\n92 \\n156 \\n85 \\n91 \\n98 \\n비지배지분순이익 \\n0 \\n0 \\n0 \\n0 \\n0  \\n지배지분 \\n284 \\n454 \\n582 \\n750 \\n957 \\n지배지분순이익 \\n74 \\n98 \\n145 \\n184 \\n223  \\n   자본금 \\n6 \\n7 \\n7 \\n7 \\n7 \\n  매도가능금융자산평가 \\n0 \\n0 \\n0 \\n0 \\n0  \\n   자본잉여금 \\n24 \\n106 \\n106 \\n106 \\n106 \\n   기타포괄이익 \\n0 \\n0 \\n0 \\n0 \\n0  \\n   이익잉여금 \\n271 \\n336 \\n464 \\n631 \\n838 \\n포괄순이익 \\n74 \\n98 \\n145 \\n185 \\n227  \\n   기타자본변동 \\n-18 \\n5 \\n5 \\n6 \\n7 \\n비지배지분포괄이익 \\n0 \\n0 \\n0 \\n0 \\n0  \\n비지배지분 \\n0 \\n-1 \\n-2 \\n-2 \\n-3 \\n지배지분포괄이익 \\n74 \\n98 \\n145 \\n185 \\n227  \\n자본총계 \\n284 \\n453 \\n581 \\n748 \\n955 \\n \\n \\n순차입금 \\n-72 \\n-67 \\n-119 \\n-229 \\n-337 \\n \\n10 \\n11 \\n12 \\n13 \\n14  \\n \\n \\n \\n \\n \\n \\nValuation 지표 \\n(단위: 원, 배, %)  \\n현금흐름표 \\n(단위: 십억원) \\n \\n2023A \\n2024A \\n2025F'),\n",
       " Document(id='fd0ddbda-bc9b-4e70-8208-81c8ba437017', metadata={'producer': 'Microsoft® Word Microsoft 365용', 'creator': 'Microsoft® Word Microsoft 365용', 'creationdate': '2025-08-20T21:43:04+09:00', 'source': '20250821_company_463434000.pdf', 'file_path': '20250821_company_463434000.pdf', 'total_pages': 7, 'format': 'PDF 1.7', 'title': '', 'author': 'vdiadmin', 'subject': '', 'keywords': '', 'moddate': '2025-08-20T21:43:04+09:00', 'trapped': '', 'modDate': \"D:20250820214304+09'00'\", 'creationDate': \"D:20250820214304+09'00'\", 'page': 5}, page_content='클래시스(214150)  \\n \\n \\n \\n6 \\n \\n \\n재무제표  \\n \\n포괄손익계산서 \\n(단위: 십억원)  \\n재무상태표 \\n(단위: 십억원) \\n \\n2023A \\n2024A \\n2025F \\n2026F \\n2027F  \\n \\n2023A \\n2024A \\n2025F \\n2026F \\n2027F \\n매출액 \\n180 \\n243 \\n362 \\n459 \\n575  \\n유동자산 \\n186 \\n234 \\n239 \\n384 \\n539 \\n매출원가 \\n40 \\n52 \\n81 \\n102 \\n129  \\n   현금및현금성자산 \\n18 \\n23 \\n24 \\n74 \\n187 \\n매출총이익 \\n140 \\n191 \\n280 \\n357 \\n445  \\n    매출채권 및 기타채권 \\n18 \\n39 \\n41 \\n57 \\n82 \\n판매비와관리비 \\n51 \\n69 \\n98 \\n124 \\n154  \\n   재고자산 \\n19 \\n30 \\n52 \\n66 \\n82 \\n영업이익 \\n90 \\n122 \\n182 \\n233 \\n291  \\n   기타유동자산 \\n130 \\n142 \\n123 \\n188 \\n188 \\n영업이익률 \\n49.8 \\n50.4 \\n50.5 \\n50.8 \\n50.7  \\n비유동자산 \\n190 \\n374 \\n426 \\n455 \\n514 \\nEBITDA \\n94 \\n130 \\n190 \\n242 \\n302  \\n   유형자산 \\n139 \\n193 \\n217 \\n240 \\n262 \\n영업외손익 \\n4 \\n5 \\n-1 \\n-1 \\n-9  \\n   관계기업투자금 \\n0 \\n0 \\n30 \\n29 \\n28 \\n   관계기업손익 \\n0 \\n-1 \\n-1 \\n-1 \\n-1  \\n   기타비유동자산 \\n51 \\n181 \\n179 \\n186 \\n224 \\n   금융수익 \\n9 \\n24 \\n18 \\n16 \\n6  \\n자산총계 \\n375 \\n608 \\n666 \\n839 \\n1,053 \\n외환관련이익 \\n0 \\n0 \\n0 \\n0 \\n0  \\n유동부채 \\n29 \\n129 \\n53 \\n55 \\n57 \\n   금융비용 \\n-4 \\n-5 \\n-16 \\n-13 \\n-12  \\n   매입채무 및 기타채무 \\n10 \\n25 \\n27 \\n28 \\n30 \\n외환관련손실 \\n2 \\n1 \\n10 \\n10 \\n10  \\n   차입금 \\n0 \\n4 \\n4 \\n4 \\n4 \\n  기타 \\n-1 \\n-13 \\n-2 \\n-2 \\n-2'),\n",
       " Document(id='f21f0dc8-1b98-4fa0-be2e-cc0d5e01fd09', metadata={'producer': 'Microsoft® Word Microsoft 365용', 'creator': 'Microsoft® Word Microsoft 365용', 'creationdate': '2025-08-20T21:43:04+09:00', 'source': '20250821_company_463434000.pdf', 'file_path': '20250821_company_463434000.pdf', 'total_pages': 7, 'format': 'PDF 1.7', 'title': '', 'author': 'vdiadmin', 'subject': '', 'keywords': '', 'moddate': '2025-08-20T21:43:04+09:00', 'trapped': '', 'modDate': \"D:20250820214304+09'00'\", 'creationDate': \"D:20250820214304+09'00'\", 'page': 5}, page_content='22 \\n-60 \\n5 \\n성장성 \\n \\n \\n \\n \\n  \\n재무활동 현금흐름 \\n-26 \\n-17 \\n-168 \\n-95 \\n-95 \\n매출액 증가율 \\n27.0 \\n34.9 \\n48.9 \\n26.9 \\n25.2  \\n  단기차입금 \\n0 \\n0 \\n0 \\n0 \\n0 \\n영업이익 증가율 \\n30.1 \\n36.6 \\n49.0 \\n27.8 \\n24.9  \\n  사채 \\n0 \\n0 \\n0 \\n0 \\n0 \\n순이익 증가율 \\n-1.5 \\n31.4 \\n48.7 \\n26.7 \\n21.5  \\n  장기차입금 \\n-2 \\n-3 \\n5 \\n5 \\n5 \\n수익성 \\n \\n \\n \\n \\n  \\n  유상증자 \\n0 \\n82 \\n0 \\n0 \\n0 \\nROIC \\n49.6 \\n34.0 \\n36.6 \\n41.6 \\n47.2  \\n  현금배당 \\n-7 \\n-13 \\n-17 \\n-17 \\n-17 \\nROA \\n25.4 \\n24.9 \\n28.7 \\n31.0 \\n30.8  \\n  기타 \\n-16 \\n-83 \\n-156 \\n-83 \\n-83 \\nROE \\n28.9 \\n26.5 \\n28.0 \\n27.6 \\n26.2  \\n현금의 증감 \\n-8 \\n4 \\n1 \\n50 \\n113 \\n안정성 \\n \\n \\n \\n \\n  \\n기초 현금 \\n26 \\n18 \\n23 \\n24 \\n74 \\n부채비율 \\n32.4 \\n34.4 \\n14.6 \\n12.2 \\n10.3  \\n기말 현금 \\n18 \\n23 \\n24 \\n74 \\n187 \\n순차입금비율 \\n-25.5 \\n-14.9 \\n-20.6 \\n-30.6 \\n-35.4  \\nNOPLAT \\n71 \\n93 \\n146 \\n184 \\n230 \\n이자보상배율 \\n45.8 \\n60.0 \\n200.7 \\n210.3 \\n0.0  \\nFCF \\n69 \\n90 \\n124 \\n163 \\n210 \\n자료: 클래시스, 대신증권 Research Center')]"
      ]
     },
     "execution_count": 19,
     "metadata": {},
     "output_type": "execute_result"
    }
   ],
   "source": [
    "# 검색기에 쿼리를 날려 검색된 chunk 결과를 확인합니다.\n",
    "retriever.invoke(\"이 기업의 시가총액은 얼마야?\")"
   ]
  },
  {
   "cell_type": "code",
   "execution_count": 20,
   "metadata": {
    "executionInfo": {
     "elapsed": 5,
     "status": "ok",
     "timestamp": 1755784526082,
     "user": {
      "displayName": "Gee",
      "userId": "08723620636746217623"
     },
     "user_tz": -540
    },
    "id": "t4XQfccEhnyx"
   },
   "outputs": [],
   "source": [
    "# 단계 6: 프롬프트 생성(Create Prompt)\n",
    "# 프롬프트를 생성합니다.\n",
    "prompt = PromptTemplate.from_template(\n",
    "    \"\"\"You are an assistant for question-answering tasks.\n",
    "Use the following pieces of retrieved context to answer the question.\n",
    "If you don't know the answer, just say that you don't know.\n",
    "Answer in Korean.\n",
    "\n",
    "#Question:\n",
    "{question}\n",
    "#Context:\n",
    "{context}\n",
    "\n",
    "#Answer:\"\"\"\n",
    ")"
   ]
  },
  {
   "cell_type": "code",
   "execution_count": 21,
   "metadata": {
    "executionInfo": {
     "elapsed": 99,
     "status": "ok",
     "timestamp": 1755784530315,
     "user": {
      "displayName": "Gee",
      "userId": "08723620636746217623"
     },
     "user_tz": -540
    },
    "id": "VcSZn0gphnvp"
   },
   "outputs": [],
   "source": [
    "# 단계 7: 언어모델(LLM) 생성\n",
    "# 모델(LLM) 을 생성합니다.\n",
    "llm = ChatOpenAI(model_name=\"gpt-4o\", temperature=0)"
   ]
  },
  {
   "cell_type": "code",
   "execution_count": 22,
   "metadata": {
    "executionInfo": {
     "elapsed": 4,
     "status": "ok",
     "timestamp": 1755784534100,
     "user": {
      "displayName": "Gee",
      "userId": "08723620636746217623"
     },
     "user_tz": -540
    },
    "id": "wDRxY7bFhrAK"
   },
   "outputs": [],
   "source": [
    "# 단계 8: 체인(Chain) 생성\n",
    "chain = (\n",
    "    {\"context\": retriever, \"question\": RunnablePassthrough()}\n",
    "    | prompt\n",
    "    | llm\n",
    "    | StrOutputParser()\n",
    ")"
   ]
  },
  {
   "cell_type": "code",
   "execution_count": 23,
   "metadata": {
    "colab": {
     "base_uri": "https://localhost:8080/"
    },
    "executionInfo": {
     "elapsed": 2095,
     "status": "ok",
     "timestamp": 1755784557569,
     "user": {
      "displayName": "Gee",
      "userId": "08723620636746217623"
     },
     "user_tz": -540
    },
    "id": "pqgesp6yhvPR",
    "outputId": "7b8e1bbe-9997-4741-f73f-f9d64ed67617"
   },
   "outputs": [
    {
     "name": "stdout",
     "output_type": "stream",
     "text": [
      "이 기업의 시가총액은 3,518십억원입니다.\n"
     ]
    }
   ],
   "source": [
    "# 체인 실행(Run Chain)\n",
    "# 문서에 대한 질의를 입력하고, 답변을 출력합니다.\n",
    "question = \"이 기업의 시가총액은 얼마야?\"\n",
    "response = chain.invoke(question)\n",
    "print(response)"
   ]
  },
  {
   "cell_type": "code",
   "execution_count": 24,
   "metadata": {
    "colab": {
     "base_uri": "https://localhost:8080/"
    },
    "executionInfo": {
     "elapsed": 2683,
     "status": "ok",
     "timestamp": 1755784598896,
     "user": {
      "displayName": "Gee",
      "userId": "08723620636746217623"
     },
     "user_tz": -540
    },
    "id": "09r_re8vhvHt",
    "outputId": "4f9f8a8c-5ed6-47fb-a835-c37a310a832d"
   },
   "outputs": [
    {
     "name": "stdout",
     "output_type": "stream",
     "text": [
      "이 기업의 투자의견은 \"매수\"입니다.\n"
     ]
    }
   ],
   "source": [
    "# 체인 실행(Run Chain)\n",
    "# 문서에 대한 질의를 입력하고, 답변을 출력합니다.\n",
    "question = \"이 기업의 투자의견 알려줘.\"\n",
    "response = chain.invoke(question)\n",
    "print(response)"
   ]
  },
  {
   "cell_type": "code",
   "execution_count": 26,
   "metadata": {
    "colab": {
     "base_uri": "https://localhost:8080/"
    },
    "executionInfo": {
     "elapsed": 1765,
     "status": "ok",
     "timestamp": 1755784669977,
     "user": {
      "displayName": "Gee",
      "userId": "08723620636746217623"
     },
     "user_tz": -540
    },
    "id": "Z0qcla00hvEd",
    "outputId": "eab9c80c-dccf-420b-9892-91353befad63"
   },
   "outputs": [
    {
     "name": "stdout",
     "output_type": "stream",
     "text": [
      "현재 주가에 대한 정보는 제공되지 않았습니다. 그러나 목표 주가는 78,000원으로 유지되고 있습니다.\n"
     ]
    }
   ],
   "source": [
    "# 체인 실행(Run Chain)\n",
    "# 문서에 대한 질의를 입력하고, 답변을 출력합니다.\n",
    "question = \"이 기업의 현재주가와 목표주가 알려줘.\"\n",
    "response = chain.invoke(question)\n",
    "print(response)"
   ]
  },
  {
   "cell_type": "code",
   "execution_count": 27,
   "metadata": {
    "colab": {
     "base_uri": "https://localhost:8080/"
    },
    "executionInfo": {
     "elapsed": 11854,
     "status": "ok",
     "timestamp": 1755784703723,
     "user": {
      "displayName": "Gee",
      "userId": "08723620636746217623"
     },
     "user_tz": -540
    },
    "id": "Nn9xlGL2hq6J",
    "outputId": "7124a52b-984a-4a9d-bb5d-0ffdce48528f"
   },
   "outputs": [
    {
     "name": "stdout",
     "output_type": "stream",
     "text": [
      "이 기업의 리포트에 따르면, 클래시스는 시장에 빠르게 침투하기 위해 론칭 심포지엄을 진행하고 있으며, 가시적인 성과를 기대하고 있습니다. 투자의견은 '매수'로, 목표 주가는 78,000원으로 유지되고 있습니다. 이는 12개월 선행 EPS 2,342원에 목표 PER 30.1배를 적용한 것입니다. 이루다 인수로 인한 단기 마진 희석 우려는 시너지 효과로 빠르게 해소되고 있으며, 현재 주가는 12개월 선행 PER 20배 수준으로 밸류에이션 매력도가 높아진 상황입니다. 유럽 시장 진출과 신제품 효과를 고려하면 성장 잠재력 대비 저평가된 구간으로 평가됩니다. \n",
      "\n",
      "2023년부터 2027년까지의 매출액과 영업이익은 각각 180억 원에서 575억 원, 90억 원에서 291억 원으로 증가할 것으로 예상됩니다. 영업이익률은 약 50% 수준을 유지할 것으로 보입니다. 또한, 이루다 합병이 2024년 4분기부터 반영될 예정입니다.\n"
     ]
    }
   ],
   "source": [
    "# 체인 실행(Run Chain)\n",
    "# 문서에 대한 질의를 입력하고, 답변을 출력합니다.\n",
    "question = \"이 기업의 리포트 요약해줘.\"\n",
    "response = chain.invoke(question)\n",
    "print(response)"
   ]
  }
 ],
 "metadata": {
  "accelerator": "GPU",
  "colab": {
   "authorship_tag": "ABX9TyPF9bOKSUE9nDBQ+3z2NzZ7",
   "gpuType": "T4",
   "provenance": []
  },
  "kernelspec": {
   "display_name": "llm",
   "language": "python",
   "name": "python3"
  },
  "language_info": {
   "name": "python",
   "version": "3.12.7"
  }
 },
 "nbformat": 4,
 "nbformat_minor": 0
}
